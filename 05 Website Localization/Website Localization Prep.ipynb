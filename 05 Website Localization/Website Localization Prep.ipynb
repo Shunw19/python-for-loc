{
 "cells": [
  {
   "cell_type": "markdown",
   "metadata": {},
   "source": [
    "# Website Localization Prep\n",
    "This script will copy a downloaded website and remove non-translatable files. It will also create an excel sheet that lists all the files of the website, and indicates which files are translatable or non-translatable, based on a provided list of extensions. These files should be looked at manually to make sure that nothing translatable has been missed.\n",
    "\n",
    "Documenting which files are translatable and which files are not is an essential step in clarifying the scope of the project. When this translatable list of files is approved by the client, it protects you in case the client decides to change the scope later."
   ]
  },
  {
   "cell_type": "markdown",
   "metadata": {},
   "source": [
    "## Generate Loc Kit\n",
    "Our first step is to generate a loc kit. We can do this easily with a script. To set up the script, we import pathlib, pandas, and shutil. We also have a function to convert bytes into a readable format."
   ]
  },
  {
   "cell_type": "code",
   "execution_count": 70,
   "metadata": {},
   "outputs": [],
   "source": [
    "from pathlib import Path\n",
    "import pandas as pd\n",
    "import shutil\n",
    "\n",
    "def convert_bytes(num):\n",
    "    \"\"\"\n",
    "    this function will convert bytes to MB.... GB... etc\n",
    "    \"\"\"\n",
    "    for x in ['bytes', 'KB', 'MB', 'GB', 'TB']:\n",
    "        if num < 1024.0:\n",
    "            return \"%3.1f %s\" % (num, x)\n",
    "        num /= 1024.0"
   ]
  },
  {
   "cell_type": "markdown",
   "metadata": {},
   "source": [
    "We create up a \"Prep\" folder and set up our constants. Translatable extensions, column names."
   ]
  },
  {
   "cell_type": "code",
   "execution_count": 65,
   "metadata": {},
   "outputs": [],
   "source": [
    "WEBSITE_FOLDER = Path(r\"www.havasu-falls.com\")\n",
    "PREP = Path(\"Prep\")\n",
    "PREP.mkdir(exist_ok=True)\n",
    "\n",
    "TRANSLATABLE = [\".htm\", \".html\"]\n",
    "COLUMNS = [\"Filepath\", \"Filename\", \"Extension\", \"Size\", \"Translatable\"]\n",
    "ROWS = []"
   ]
  },
  {
   "cell_type": "markdown",
   "metadata": {},
   "source": [
    "We walk through each file and folder in the website folder, and determine whether it is translatable or not. This is done by comparing the extension with our pre-defined list of translatable extensions. If the file is translatable, we copy it over. If not, it is not copied. We append a row with important information to a dataframe."
   ]
  },
  {
   "cell_type": "code",
   "execution_count": 66,
   "metadata": {},
   "outputs": [],
   "source": [
    "for p in WEBSITE_FOLDER.rglob(\"*\"):\n",
    "    relative = p.relative_to(WEBSITE_FOLDER)\n",
    "    prep_path = PREP / relative\n",
    "    if p.is_dir():\n",
    "        prep_path.mkdir(exist_ok=True)\n",
    "    elif p.is_file():\n",
    "        filename = p.name\n",
    "        extension = p.suffix\n",
    "        bytes = p.stat().st_size\n",
    "        size = convert_bytes(bytes)\n",
    "        translatable = False\n",
    "        if extension in TRANSLATABLE:\n",
    "            translatable = True\n",
    "            shutil.copy(p, prep_path)\n",
    "        row = p, filename, extension, size, translatable\n",
    "        ROWS.append(row)"
   ]
  },
  {
   "cell_type": "markdown",
   "metadata": {},
   "source": [
    "We write the file information to an excel sheet."
   ]
  },
  {
   "cell_type": "code",
   "execution_count": 68,
   "metadata": {},
   "outputs": [
    {
     "name": "stdout",
     "output_type": "stream",
     "text": [
      "                                            Filepath  \\\n",
      "0              www.havasu-falls.com\\applewebkit.html   \n",
      "1               www.havasu-falls.com\\contact-us.html   \n",
      "2          www.havasu-falls.com\\has_js=1; path=.html   \n",
      "3  www.havasu-falls.com\\havasu-canyon-waterfalls....   \n",
      "4  www.havasu-falls.com\\havasu-falls-information....   \n",
      "\n",
      "                        Filename Extension     Size Translatable  \n",
      "0               applewebkit.html     .html  10.8 KB         True  \n",
      "1                contact-us.html     .html  53.2 KB         True  \n",
      "2           has_js=1; path=.html     .html  10.8 KB         True  \n",
      "3  havasu-canyon-waterfalls.html     .html  57.5 KB         True  \n",
      "4  havasu-falls-information.html     .html  60.4 KB         True  \n"
     ]
    }
   ],
   "source": [
    "df = pd.DataFrame(ROWS, columns=COLUMNS, dtype=object)\n",
    "df.to_excel(\"File List.xlsx\", index=False)\n",
    "print(df.head(5))"
   ]
  },
  {
   "cell_type": "markdown",
   "metadata": {},
   "source": [
    "## Assess Word Count\n",
    "Next, we load the prep folder into memoQ. Use the \"Import Folder Structure\" option in memoQ. In fact, it can include/exclude certain file types. If you have this feature in the CAT tool you're using, it may make the previous step of generating a loc kit unnecessary. But not all CAT tools and TMS have this feature, so generating a loc kit is sometimes necessary.  \n",
    "  \n",
    "Get the word count of each file with the \"Statistics\" button on the \"Documents\" tab of the ribbon and download it as a CSV file.  \n",
    "![image_2.png](screenshots/image_2.png)\n",
    "![image_1.png](screenshots/image_1.png)\n",
    "![image_3.png](screenshots/image_3.png)"
   ]
  },
  {
   "cell_type": "markdown",
   "metadata": {},
   "source": [
    "## Merge Word Count with File List\n",
    "After downloading the statistics as CSV, paste the data from the entire CSV into the second tab of the file list Excel workbook. Selecting all the cells, click on A1 in the upper-left corner and rename the range as `word_count`. Replace the beginning part of the path of the data you pasted in with the beginning part of the original path listed on Sheet1.\n",
    "\n",
    "Then, in a the `Translatable` column in Sheet1, enter this formula:  \n",
    "`=IF(E2,VLOOKUP(A2,word_count,84),\"\")`  \n",
    "\n",
    "For me, E2 is a TRUE/FALSE boolean for `Translatable`. word_count is my predefined data from the CSV file. And `84` is the column index of the total word count I'd like to display. If `E2` is not `Translatable`, then just display an empty string `\"\"`.\n",
    "\n",
    "Populate this formula down the sheet by selecting the cells you'd like to populate across and pressing `Ctrl-D`.  \n",
    "\n",
    "![image_4.png](screenshots/image_4.png)"
   ]
  }
 ],
 "metadata": {
  "kernelspec": {
   "display_name": "Python 3",
   "language": "python",
   "name": "python3"
  },
  "language_info": {
   "codemirror_mode": {
    "name": "ipython",
    "version": 3
   },
   "file_extension": ".py",
   "mimetype": "text/x-python",
   "name": "python",
   "nbconvert_exporter": "python",
   "pygments_lexer": "ipython3",
   "version": "3.7.1"
  }
 },
 "nbformat": 4,
 "nbformat_minor": 4
}
