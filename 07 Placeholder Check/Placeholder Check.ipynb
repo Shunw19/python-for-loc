{
 "cells": [
  {
   "cell_type": "code",
   "execution_count": 20,
   "metadata": {},
   "outputs": [
    {
     "name": "stdout",
     "output_type": "stream",
     "text": [
      "Error in 1_translation\\Chinese (Simplified)\\assets\\feedback.txt.\n",
      "Source placeholders:      {'%{user}', '%{phoneNum}', '%{productName}', '%{customerService}'}\n",
      "Translation placeholders: set()\n",
      "Error in 1_translation\\Chinese (Simplified)\\assets\\new_user.txt.\n",
      "Source placeholders:      {'%{loginCredentials}', '%{accountManager}', '%{newUser}', '%{accountType}'}\n",
      "Translation placeholders: set()\n",
      "Error in 1_translation\\Chinese (Simplified)\\notification\\notification.txt.\n",
      "Source placeholders:      {'%{managerName}', '%{newAccount}', '%{numDaysRemaining}', '%{userName}'}\n",
      "Translation placeholders: set()\n",
      "Error in 1_translation\\Chinese (Simplified)\\notification\\prospect.txt.\n",
      "Source placeholders:      {'%{salesTeam}', '%{productName}', '%{downloadLink}', '%{prospect}'}\n",
      "Translation placeholders: set()\n",
      "Error in 1_translation\\Russian\\assets\\feedback.txt.\n",
      "Source placeholders:      {'%{user}', '%{phoneNum}', '%{productName}', '%{customerService}'}\n",
      "Translation placeholders: {'%{пользователь}', '%{phoneNum}', '%{productName}', '%{CustomerService}'}\n",
      "Error in 1_translation\\Russian\\assets\\new_user.txt.\n",
      "Source placeholders:      {'%{loginCredentials}', '%{accountManager}', '%{newUser}', '%{accountType}'}\n",
      "Translation placeholders: {'%{loginCredentials}', '%{newUser}', '%{accountType}', '%{AccountManager}'}\n",
      "Error in 1_translation\\Russian\\notification\\notification.txt.\n",
      "Source placeholders:      {'%{managerName}', '%{newAccount}', '%{numDaysRemaining}', '%{userName}'}\n",
      "Translation placeholders: {'%{ManagerName}', '%{newAccount}', '%{userName}'}\n",
      "Error in 1_translation\\Russian\\notification\\prospect.txt.\n",
      "Source placeholders:      {'%{salesTeam}', '%{productName}', '%{downloadLink}', '%{prospect}'}\n",
      "Translation placeholders: {'%{SalesTeam}', '%{downloadLink}', '%{prospect}'}\n",
      "Error in 1_translation\\Spanish\\assets\\feedback.txt.\n",
      "Source placeholders:      {'%{user}', '%{phoneNum}', '%{productName}', '%{customerService}'}\n",
      "Translation placeholders: {'%{phoneNum}', '%{usario}', '%{customerService}', '%{productName}'}\n",
      "Error in 1_translation\\Spanish\\assets\\new_user.txt.\n",
      "Source placeholders:      {'%{loginCredentials}', '%{accountManager}', '%{newUser}', '%{accountType}'}\n",
      "Translation placeholders: {'%{accountManager}', '%{newUser}', '%{accountType}'}\n",
      "Error in 1_translation\\Spanish\\notification\\notification.txt.\n",
      "Source placeholders:      {'%{managerName}', '%{newAccount}', '%{numDaysRemaining}', '%{userName}'}\n",
      "Translation placeholders: {'%{managerName}', '%{numAccount}', '%{userName}', '%{newDaysRemaining}'}\n"
     ]
    }
   ],
   "source": [
    "from pathlib import Path\n",
    "import pandas as pd\n",
    "import re\n",
    "\n",
    "def get_placeholders(text):\n",
    "    return set(re.findall(PLACEHOLDER_PATTERN, text))\n",
    "\n",
    "SOURCE = Path(r\"0_source_files\")\n",
    "TRANSLATION = Path(r\"1_translation\")\n",
    "PARENT = SOURCE.parent\n",
    "PLACEHOLDER_PATTERN = re.compile(r\"%{.*?}\")\n",
    "\n",
    "for language_folder in TRANSLATION.iterdir():\n",
    "    language = language_folder.name\n",
    "    for text_file in language_folder.rglob(\"*.txt\"):\n",
    "        relative = text_file.relative_to(language_folder)\n",
    "        source_file = SOURCE / relative\n",
    "        with open(text_file, 'r', encoding=\"utf-8\") as f, open(source_file, 'r', encoding=\"utf-8\") as s:\n",
    "            f_content = f.read()\n",
    "            s_content = s.read()\n",
    "            f_placeholders = get_placeholders(f_content)\n",
    "            s_placeholders = get_placeholders(s_content)\n",
    "            if f_placeholders != s_placeholders:\n",
    "                print(f\"Error in {f.name}.\")\n",
    "                print(f\"Source placeholders:      {s_placeholders}\")\n",
    "                print(f\"Translation placeholders: {f_placeholders}\")\n",
    "                    \n",
    "            \n",
    "    "
   ]
  },
  {
   "cell_type": "code",
   "execution_count": null,
   "metadata": {},
   "outputs": [],
   "source": []
  }
 ],
 "metadata": {
  "kernelspec": {
   "display_name": "Python 3",
   "language": "python",
   "name": "python3"
  },
  "language_info": {
   "codemirror_mode": {
    "name": "ipython",
    "version": 3
   },
   "file_extension": ".py",
   "mimetype": "text/x-python",
   "name": "python",
   "nbconvert_exporter": "python",
   "pygments_lexer": "ipython3",
   "version": "3.7.1"
  }
 },
 "nbformat": 4,
 "nbformat_minor": 4
}
