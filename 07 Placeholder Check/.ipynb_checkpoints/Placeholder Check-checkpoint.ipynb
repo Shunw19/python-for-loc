{
 "cells": [
  {
   "cell_type": "code",
   "execution_count": 19,
   "metadata": {},
   "outputs": [
    {
     "name": "stdout",
     "output_type": "stream",
     "text": [
      "{'%{user}', '%{phoneNum}', '%{productName}', '%{customerService}'}\n",
      "set()\n",
      "{'%{loginCredentials}', '%{accountManager}', '%{newUser}', '%{accountType}'}\n",
      "set()\n",
      "{'%{managerName}', '%{newAccount}', '%{numDaysRemaining}', '%{userName}'}\n",
      "set()\n",
      "{'%{salesTeam}', '%{productName}', '%{downloadLink}', '%{prospect}'}\n",
      "set()\n",
      "{'%{user}', '%{phoneNum}', '%{productName}', '%{customerService}'}\n",
      "{'%{пользователь}', '%{phoneNum}', '%{productName}', '%{CustomerService}'}\n",
      "{'%{loginCredentials}', '%{accountManager}', '%{newUser}', '%{accountType}'}\n",
      "{'%{loginCredentials}', '%{newUser}', '%{accountType}', '%{AccountManager}'}\n",
      "{'%{managerName}', '%{newAccount}', '%{numDaysRemaining}', '%{userName}'}\n",
      "{'%{ManagerName}', '%{newAccount}', '%{userName}'}\n",
      "{'%{salesTeam}', '%{productName}', '%{downloadLink}', '%{prospect}'}\n",
      "{'%{SalesTeam}', '%{downloadLink}', '%{prospect}'}\n",
      "{'%{user}', '%{phoneNum}', '%{productName}', '%{customerService}'}\n",
      "{'%{phoneNum}', '%{usario}', '%{customerService}', '%{productName}'}\n",
      "{'%{loginCredentials}', '%{accountManager}', '%{newUser}', '%{accountType}'}\n",
      "{'%{accountManager}', '%{newUser}', '%{accountType}'}\n",
      "{'%{managerName}', '%{newAccount}', '%{numDaysRemaining}', '%{userName}'}\n",
      "{'%{managerName}', '%{numAccount}', '%{userName}', '%{newDaysRemaining}'}\n",
      "{'%{salesTeam}', '%{productName}', '%{downloadLink}', '%{prospect}'}\n",
      "{'%{salesTeam}', '%{productName}', '%{downloadLink}', '%{prospect}'}\n"
     ]
    }
   ],
   "source": [
    "from pathlib import Path\n",
    "import pandas as pd\n",
    "import re\n",
    "\n",
    "def get_placeholders(text):\n",
    "    return set(re.findall(PLACEHOLDER_PATTERN, text))\n",
    "\n",
    "SOURCE = Path(r\"0_source_files\")\n",
    "TRANSLATION = Path(r\"1_translation\")\n",
    "PARENT = SOURCE.parent\n",
    "PLACEHOLDER_PATTERN = re.compile(r\"%{.*?}\")\n",
    "\n",
    "for language_folder in TRANSLATION.iterdir():\n",
    "    language = language_folder.name\n",
    "    for text_file in language_folder.rglob(\"*.txt\"):\n",
    "        relative = text_file.relative_to(language_folder)\n",
    "        source_file = SOURCE / relative\n",
    "        with open(text_file, 'r', encoding=\"utf-8\") as f, open(source_file, 'r', encoding=\"utf-8\") as s:\n",
    "            f_content = f.read()\n",
    "            s_content = s.read()\n",
    "            f_placeholders = get_placeholders(f_content)\n",
    "            s_placeholders = get_placeholders(s_content)\n",
    "            if f_placeholders != s_placeholders:\n",
    "                print(f\"Error in {f.name}.\")\n",
    "                print(f\"Source placeholders:      {s_placeholders}\")\n",
    "                print(f\"Translation placeholders: {f_placeholders}\")\n",
    "                    \n",
    "            \n",
    "    "
   ]
  },
  {
   "cell_type": "code",
   "execution_count": null,
   "metadata": {},
   "outputs": [],
   "source": []
  }
 ],
 "metadata": {
  "kernelspec": {
   "display_name": "Python 3",
   "language": "python",
   "name": "python3"
  },
  "language_info": {
   "codemirror_mode": {
    "name": "ipython",
    "version": 3
   },
   "file_extension": ".py",
   "mimetype": "text/x-python",
   "name": "python",
   "nbconvert_exporter": "python",
   "pygments_lexer": "ipython3",
   "version": "3.7.1"
  }
 },
 "nbformat": 4,
 "nbformat_minor": 4
}
