{
 "cells": [
  {
   "cell_type": "markdown",
   "metadata": {},
   "source": [
    "# Placeholder Check\n",
    "\n",
    "First, let's import the necessary modules."
   ]
  },
  {
   "cell_type": "code",
   "execution_count": 94,
   "metadata": {},
   "outputs": [],
   "source": [
    "from pathlib import Path\n",
    "import pandas as pd\n",
    "import re\n",
    "from collections import Counter"
   ]
  },
  {
   "cell_type": "markdown",
   "metadata": {},
   "source": [
    "## Define a ContentFile Class\n",
    "\n",
    "A class may not technically be required for this project, but for other projects, a class structure may be useful in keeping track of all kinds of parameters, like language, locale code, a list of errors, the contents of the file, etc. It could be a helpful container. Use this as a template for future file objects."
   ]
  },
  {
   "cell_type": "code",
   "execution_count": 95,
   "metadata": {},
   "outputs": [],
   "source": [
    "class ContentFile:\n",
    "    def __init__(self, file_object):\n",
    "        self.contents = file_object.read()\n",
    "        self.placeholders = get_placeholders(self.contents)"
   ]
  },
  {
   "cell_type": "markdown",
   "metadata": {},
   "source": [
    "## Define Functions for Placeholder Extraction and Check"
   ]
  },
  {
   "cell_type": "code",
   "execution_count": 110,
   "metadata": {},
   "outputs": [],
   "source": [
    "def get_placeholders(text):\n",
    "    return sorted(re.findall(PLACEHOLDER_PATTERN, text))\n",
    "\n",
    "def get_errors(source_ph, target_ph):\n",
    "    errors = list()\n",
    "    source_ph_count = Counter(source_ph)\n",
    "    target_ph_count = Counter(target_ph)\n",
    "    for s_ph, count in source_ph_count.items():\n",
    "        diff = count - target_ph_count[s_ph]\n",
    "        if diff > 0:  \n",
    "            errors.append(f\"{diff} instance(s) of placeholders missing from translation: {s_ph}\")\n",
    "        elif diff < 0:\n",
    "            errors.append(f\"{abs(diff)} instance(s) of placeholder superfluously added to the translation: {s_ph}\")\n",
    "    for t_ph, count in target_ph_count.items():\n",
    "        if t_ph not in source_ph_count.keys():\n",
    "            errors.append(f\"{count} instance(s) of non-corresponding placeholders: {t_ph}\")\n",
    "    return errors   "
   ]
  },
  {
   "cell_type": "markdown",
   "metadata": {},
   "source": [
    "## Define Constants"
   ]
  },
  {
   "cell_type": "code",
   "execution_count": 111,
   "metadata": {},
   "outputs": [],
   "source": [
    "SOURCE = Path(r\"source_files\")\n",
    "TRANSLATION = Path(r\"translation\")\n",
    "PLACEHOLDER_PATTERN = re.compile(r\"%{.*?}\")"
   ]
  },
  {
   "cell_type": "markdown",
   "metadata": {},
   "source": [
    "## Read Source and Target Files\n",
    "\n",
    "We get the relative path of each target file and read the contents of each into an entire string.\n",
    "\n",
    "## Extract and Compare Placeholders\n",
    "\n",
    "Placeholders are extracted using a regular expression. They are ordered as a sorted list. This sorting allows for placeholders to be in a different order between source and target file.\n",
    "\n",
    "Placeholders are compared and an error is printed to the console for each error."
   ]
  },
  {
   "cell_type": "code",
   "execution_count": 112,
   "metadata": {},
   "outputs": [
    {
     "name": "stdout",
     "output_type": "stream",
     "text": [
      "Errors detected in translation\\Chinese (Simplified)\\assets\\feedback.txt.\n",
      "    1 instance(s) of placeholders missing from translation: %{customerService}\n",
      "    1 instance(s) of placeholders missing from translation: %{phoneNum}\n",
      "    1 instance(s) of placeholders missing from translation: %{productName}\n",
      "    1 instance(s) of placeholders missing from translation: %{user}\n",
      "Errors detected in translation\\Chinese (Simplified)\\assets\\new_user.txt.\n",
      "    1 instance(s) of placeholders missing from translation: %{accountManager}\n",
      "    1 instance(s) of placeholders missing from translation: %{accountType}\n",
      "    1 instance(s) of placeholders missing from translation: %{loginCredentials}\n",
      "    1 instance(s) of placeholders missing from translation: %{newUser}\n",
      "Errors detected in translation\\Chinese (Simplified)\\notification\\notification.txt.\n",
      "    1 instance(s) of placeholders missing from translation: %{managerName}\n",
      "    1 instance(s) of placeholders missing from translation: %{newAccount}\n",
      "    1 instance(s) of placeholders missing from translation: %{numDaysRemaining}\n",
      "    1 instance(s) of placeholders missing from translation: %{userName}\n",
      "Errors detected in translation\\Chinese (Simplified)\\notification\\prospect.txt.\n",
      "    1 instance(s) of placeholders missing from translation: %{downloadLink}\n",
      "    1 instance(s) of placeholders missing from translation: %{productName}\n",
      "    1 instance(s) of placeholders missing from translation: %{prospect}\n",
      "    1 instance(s) of placeholders missing from translation: %{salesTeam}\n",
      "Errors detected in translation\\Russian\\assets\\feedback.txt.\n",
      "    1 instance(s) of placeholders missing from translation: %{customerService}\n",
      "    1 instance(s) of placeholders missing from translation: %{user}\n",
      "    1 instance(s) of non-corresponding placeholders: %{CustomerService}\n",
      "    1 instance(s) of non-corresponding placeholders: %{пользователь}\n",
      "Errors detected in translation\\Russian\\assets\\new_user.txt.\n",
      "    1 instance(s) of placeholders missing from translation: %{accountManager}\n",
      "    1 instance(s) of non-corresponding placeholders: %{AccountManager}\n",
      "Errors detected in translation\\Russian\\notification\\notification.txt.\n",
      "    1 instance(s) of placeholders missing from translation: %{managerName}\n",
      "    1 instance(s) of placeholders missing from translation: %{numDaysRemaining}\n",
      "    1 instance(s) of non-corresponding placeholders: %{ManagerName}\n",
      "Errors detected in translation\\Russian\\notification\\prospect.txt.\n",
      "    1 instance(s) of placeholders missing from translation: %{productName}\n",
      "    1 instance(s) of placeholders missing from translation: %{salesTeam}\n",
      "    1 instance(s) of non-corresponding placeholders: %{SalesTeam}\n",
      "Errors detected in translation\\Spanish\\assets\\feedback.txt.\n",
      "    1 instance(s) of placeholders missing from translation: %{user}\n",
      "    1 instance(s) of non-corresponding placeholders: %{usario}\n",
      "Errors detected in translation\\Spanish\\assets\\new_user.txt.\n",
      "    1 instance(s) of placeholders missing from translation: %{loginCredentials}\n",
      "Errors detected in translation\\Spanish\\notification\\notification.txt.\n",
      "    1 instance(s) of placeholders missing from translation: %{newAccount}\n",
      "    1 instance(s) of placeholders missing from translation: %{numDaysRemaining}\n",
      "    1 instance(s) of non-corresponding placeholders: %{newDaysRemaining}\n",
      "    1 instance(s) of non-corresponding placeholders: %{numAccount}\n"
     ]
    }
   ],
   "source": [
    "# go through each language folder and identify pairs of source and target files\n",
    "for language_folder in TRANSLATION.iterdir():\n",
    "    language = language_folder.name\n",
    "    for target_file in language_folder.rglob(\"*.txt\"):\n",
    "        relative = target_file.relative_to(language_folder)\n",
    "        source_file = SOURCE / relative\n",
    "\n",
    "        # Read each target file and its corresponding source file.\n",
    "        with open(target_file, 'r', encoding=\"utf-8\") as t, \\\n",
    "             open(source_file, 'r', encoding=\"utf-8\") as s:\n",
    "            target = ContentFile(t)\n",
    "            source = ContentFile(s)\n",
    "            \n",
    "            # Compare the placeholders and print an error to the console if not identical.\n",
    "            if source.placeholders != target.placeholders:\n",
    "                print(f\"Errors detected in {t.name}.\")\n",
    "                errors = get_errors(source.placeholders, target.placeholders)\n",
    "                for error in errors:\n",
    "                    print(\"    \" + error)"
   ]
  }
 ],
 "metadata": {
  "kernelspec": {
   "display_name": "Python 3",
   "language": "python",
   "name": "python3"
  },
  "language_info": {
   "codemirror_mode": {
    "name": "ipython",
    "version": 3
   },
   "file_extension": ".py",
   "mimetype": "text/x-python",
   "name": "python",
   "nbconvert_exporter": "python",
   "pygments_lexer": "ipython3",
   "version": "3.7.1"
  }
 },
 "nbformat": 4,
 "nbformat_minor": 4
}
